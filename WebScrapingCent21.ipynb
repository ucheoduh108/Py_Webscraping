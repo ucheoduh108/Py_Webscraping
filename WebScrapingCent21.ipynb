{
 "cells": [
  {
   "cell_type": "code",
   "execution_count": 92,
   "id": "47739550",
   "metadata": {},
   "outputs": [],
   "source": [
    "import requests\n",
    "\n",
    "from bs4 import BeautifulSoup\n",
    "\n",
    "\n",
    "\n",
    "r = requests.get('https://www.century21.com/real-estate/rock-springs-wy/LCWYROCKSPRINGS/')\n",
    "\n",
    "c = r.content\n",
    "\n",
    "soup = BeautifulSoup(c, 'html.parser')\n",
    "\n",
    "all = soup.find_all('div', {'class':'property-card-primary-info'})\n",
    "\n",
    "#page_nr = soup.find_all('div', {'class' : 'Page'})[-1].text  #you can add this for easy page count, while you modify the\n",
    "                                                              #the 'for loop' below to- for page in range(0,int(page_nr)*10,10):\n",
    "#print(type(page_nr))"
   ]
  },
  {
   "cell_type": "code",
   "execution_count": 96,
   "id": "6b1e9ff2",
   "metadata": {},
   "outputs": [
    {
     "data": {
      "text/plain": [
       "'$152,000'"
      ]
     },
     "execution_count": 96,
     "metadata": {},
     "output_type": "execute_result"
    }
   ],
   "source": [
    "all[0].find('a', {'class' : 'listing-price'}).text.replace('\\n', '').replace(' ','')"
   ]
  },
  {
   "cell_type": "code",
   "execution_count": 149,
   "id": "f984c0ab",
   "metadata": {},
   "outputs": [],
   "source": [
    "L = []\n",
    "\n",
    "base_url = 'https://www.century21.com/real-estate/rock-springs-wy/LCWYROCKSPRINGS/#t=0&s='  #to capture other pages\n",
    "for page in range(0,30,10):    #OR for page in range(0,int(page_nr)*10,10):   \n",
    "    print(base_url + str(page))\n",
    "    r = requests.get(base_url + str(page))\n",
    "    c = r.json()['list']  #OR r.content\n",
    "    soup = BeautifulSoup(c,'html.parser')\n",
    "    all = soup.find_all('div', {'class' : 'property-card-primary-info'})\n",
    "    \n",
    "\n",
    "    for items in all:       #the base outline\n",
    "\n",
    "        d = {}\n",
    "\n",
    "        d['Address'] = items.find_all('div',{'class':'property-address'})[0].text.replace('   ','').replace('\\n','') \n",
    "\n",
    "        d['Locality'] = items.find_all('div',{'class':'property-city'})[0].text.replace('   ','').replace('\\n','')\n",
    "\n",
    "        d['Price'] = items.find('a',{'class':'listing-price'}).text.replace('\\n', '').replace(' ','')  \n",
    "\n",
    "\n",
    "        try:      #to cover for the None values(for missing values handle the exception)\n",
    "            d['Beds'] = items.find('div',{'class' : 'property-beds'}).find('strong').text.replace('\\n','') \n",
    "        except:\n",
    "            d['Beds'] = (None)    \n",
    "\n",
    "        try:      \n",
    "            d['Full Baths'] = items.find('div',{'class' : 'property-baths'}).find('strong').text.replace('\\n','') \n",
    "        except:\n",
    "            d['Full Baths'] = (None)    \n",
    "\n",
    "        try:      \n",
    "            d['Area'] = items.find('div',{'class' : 'property-sqft'}).find('strong').text.replace('\\n','') \n",
    "        except:\n",
    "            d['Area'] = (None)  \n",
    "\n",
    "        L.append(d)"
   ]
  },
  {
   "cell_type": "code",
   "execution_count": 150,
   "id": "b8d103c7",
   "metadata": {},
   "outputs": [
    {
     "data": {
      "text/plain": [
       "[{'Address': '109 Clearview Drive',\n",
       "  'Locality': 'Rock Springs WY 82901',\n",
       "  'Price': '$152,000',\n",
       "  'Beds': '3',\n",
       "  'Full Baths': '2',\n",
       "  'Area': '1,688'},\n",
       " {'Address': '1111 McCabe Street',\n",
       "  'Locality': 'Rock Springs WY 82901',\n",
       "  'Price': '$239,500',\n",
       "  'Beds': '4',\n",
       "  'Full Baths': '2',\n",
       "  'Area': '1,768'},\n",
       " {'Address': 'Tbd YELLOWSTONE RD.',\n",
       "  'Locality': 'Rock Springs WY 82901',\n",
       "  'Price': '$295,000',\n",
       "  'Beds': None,\n",
       "  'Full Baths': None,\n",
       "  'Area': None},\n",
       " {'Address': '0 Stagecoach Blvd.',\n",
       "  'Locality': 'Rock Springs WY 82901',\n",
       "  'Price': '$975,000',\n",
       "  'Beds': None,\n",
       "  'Full Baths': None,\n",
       "  'Area': None},\n",
       " {'Address': '828 Rhode Island Ave',\n",
       "  'Locality': 'Rock Springs WY 82901',\n",
       "  'Price': '$199,900',\n",
       "  'Beds': '4',\n",
       "  'Full Baths': '2',\n",
       "  'Area': '1,397'}]"
      ]
     },
     "execution_count": 150,
     "metadata": {},
     "output_type": "execute_result"
    }
   ],
   "source": [
    "L"
   ]
  },
  {
   "cell_type": "code",
   "execution_count": 151,
   "id": "69516513",
   "metadata": {},
   "outputs": [
    {
     "data": {
      "text/plain": [
       "5"
      ]
     },
     "execution_count": 151,
     "metadata": {},
     "output_type": "execute_result"
    }
   ],
   "source": [
    "len(L)"
   ]
  },
  {
   "cell_type": "code",
   "execution_count": 152,
   "id": "77dc5b2e",
   "metadata": {},
   "outputs": [
    {
     "data": {
      "text/html": [
       "<div>\n",
       "<style scoped>\n",
       "    .dataframe tbody tr th:only-of-type {\n",
       "        vertical-align: middle;\n",
       "    }\n",
       "\n",
       "    .dataframe tbody tr th {\n",
       "        vertical-align: top;\n",
       "    }\n",
       "\n",
       "    .dataframe thead th {\n",
       "        text-align: right;\n",
       "    }\n",
       "</style>\n",
       "<table border=\"1\" class=\"dataframe\">\n",
       "  <thead>\n",
       "    <tr style=\"text-align: right;\">\n",
       "      <th></th>\n",
       "      <th>Address</th>\n",
       "      <th>Locality</th>\n",
       "      <th>Price</th>\n",
       "      <th>Beds</th>\n",
       "      <th>Full Baths</th>\n",
       "      <th>Area</th>\n",
       "    </tr>\n",
       "  </thead>\n",
       "  <tbody>\n",
       "    <tr>\n",
       "      <th>0</th>\n",
       "      <td>109 Clearview Drive</td>\n",
       "      <td>Rock Springs WY 82901</td>\n",
       "      <td>$152,000</td>\n",
       "      <td>3</td>\n",
       "      <td>2</td>\n",
       "      <td>1,688</td>\n",
       "    </tr>\n",
       "    <tr>\n",
       "      <th>1</th>\n",
       "      <td>1111 McCabe Street</td>\n",
       "      <td>Rock Springs WY 82901</td>\n",
       "      <td>$239,500</td>\n",
       "      <td>4</td>\n",
       "      <td>2</td>\n",
       "      <td>1,768</td>\n",
       "    </tr>\n",
       "    <tr>\n",
       "      <th>2</th>\n",
       "      <td>Tbd YELLOWSTONE RD.</td>\n",
       "      <td>Rock Springs WY 82901</td>\n",
       "      <td>$295,000</td>\n",
       "      <td>None</td>\n",
       "      <td>None</td>\n",
       "      <td>None</td>\n",
       "    </tr>\n",
       "    <tr>\n",
       "      <th>3</th>\n",
       "      <td>0 Stagecoach Blvd.</td>\n",
       "      <td>Rock Springs WY 82901</td>\n",
       "      <td>$975,000</td>\n",
       "      <td>None</td>\n",
       "      <td>None</td>\n",
       "      <td>None</td>\n",
       "    </tr>\n",
       "    <tr>\n",
       "      <th>4</th>\n",
       "      <td>828 Rhode Island Ave</td>\n",
       "      <td>Rock Springs WY 82901</td>\n",
       "      <td>$199,900</td>\n",
       "      <td>4</td>\n",
       "      <td>2</td>\n",
       "      <td>1,397</td>\n",
       "    </tr>\n",
       "  </tbody>\n",
       "</table>\n",
       "</div>"
      ],
      "text/plain": [
       "                Address               Locality     Price  Beds Full Baths  \\\n",
       "0   109 Clearview Drive  Rock Springs WY 82901  $152,000     3          2   \n",
       "1    1111 McCabe Street  Rock Springs WY 82901  $239,500     4          2   \n",
       "2   Tbd YELLOWSTONE RD.  Rock Springs WY 82901  $295,000  None       None   \n",
       "3    0 Stagecoach Blvd.  Rock Springs WY 82901  $975,000  None       None   \n",
       "4  828 Rhode Island Ave  Rock Springs WY 82901  $199,900     4          2   \n",
       "\n",
       "    Area  \n",
       "0  1,688  \n",
       "1  1,768  \n",
       "2   None  \n",
       "3   None  \n",
       "4  1,397  "
      ]
     },
     "execution_count": 152,
     "metadata": {},
     "output_type": "execute_result"
    }
   ],
   "source": [
    "#Converting the list to a Dataframe\n",
    "\n",
    "import pandas\n",
    "\n",
    "df = pandas.DataFrame(L)\n",
    "\n",
    "df"
   ]
  },
  {
   "cell_type": "code",
   "execution_count": 153,
   "id": "a8250138",
   "metadata": {},
   "outputs": [],
   "source": [
    "#Storing the dataframe in file\n",
    "\n",
    "df.to_csv('output.csv')"
   ]
  },
  {
   "cell_type": "code",
   "execution_count": null,
   "id": "0b78bd43",
   "metadata": {},
   "outputs": [],
   "source": [
    "  "
   ]
  },
  {
   "cell_type": "code",
   "execution_count": null,
   "id": "1da5c099",
   "metadata": {},
   "outputs": [],
   "source": []
  }
 ],
 "metadata": {
  "kernelspec": {
   "display_name": "Python 3 (ipykernel)",
   "language": "python",
   "name": "python3"
  },
  "language_info": {
   "codemirror_mode": {
    "name": "ipython",
    "version": 3
   },
   "file_extension": ".py",
   "mimetype": "text/x-python",
   "name": "python",
   "nbconvert_exporter": "python",
   "pygments_lexer": "ipython3",
   "version": "3.10.9"
  }
 },
 "nbformat": 4,
 "nbformat_minor": 5
}
