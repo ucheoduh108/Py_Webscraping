{
 "cells": [
  {
   "cell_type": "code",
   "execution_count": 11,
   "id": "13b2dd52",
   "metadata": {},
   "outputs": [],
   "source": [
    "import requests\n",
    "\n",
    "from bs4 import BeautifulSoup"
   ]
  },
  {
   "cell_type": "code",
   "execution_count": 12,
   "id": "35b14f69",
   "metadata": {},
   "outputs": [],
   "source": [
    "r = requests.get('https://www.century21.com/real-estate/rock-springs-wy/LCWYROCKSPRINGS/')\n",
    "\n",
    "c = r.content\n"
   ]
  },
  {
   "cell_type": "code",
   "execution_count": 21,
   "id": "cdf0b114",
   "metadata": {},
   "outputs": [],
   "source": [
    "soup = BeautifulSoup(c, 'html.parser')\n",
    "\n",
    "#print(soup.prettify())"
   ]
  },
  {
   "cell_type": "code",
   "execution_count": 23,
   "id": "6dc08f1a",
   "metadata": {},
   "outputs": [],
   "source": [
    "all = soup.find_all('div', {'class':'property-card-primary-info'})"
   ]
  },
  {
   "cell_type": "code",
   "execution_count": 24,
   "id": "29de2b88",
   "metadata": {},
   "outputs": [
    {
     "data": {
      "text/plain": [
       "[<div class=\"property-card-primary-info\">\n",
       " <div class=\"pdp-listing-type sale\">FOR SALE</div>\n",
       " <a class=\"listing-price\" href=\"/property/109-clearview-drive-rock-springs-wy-82901-REN025385462\">\n",
       "          \n",
       "             \n",
       "                $152,000\n",
       "             \n",
       "             \n",
       "          \n",
       "       </a>\n",
       " <div class=\"col-wrap-mid\">\n",
       " <div class=\"property-beds\">\n",
       " <strong>3</strong> beds\n",
       "          </div>\n",
       " <div class=\"property-baths\">\n",
       " <strong>2</strong> baths\n",
       "          </div>\n",
       " </div>\n",
       " <div class=\"col-wrap-last\">\n",
       " <div class=\"property-sqft\">\n",
       " <strong>1,688</strong> sq. ft\n",
       "          </div>\n",
       " </div>\n",
       " <div class=\"property-address-info\">\n",
       " <div class=\"property-address\" title=\"109 Clearview Drive\">\n",
       "                109 Clearview Drive\n",
       "             </div>\n",
       " <div class=\"property-city\">\n",
       "             Rock Springs WY 82901\n",
       "          </div>\n",
       " </div>\n",
       " <div class=\"property-card-attribution\">\n",
       "                Courtesy Of Williams &amp; Williams Real Estate Auctions\n",
       "             \n",
       "          </div>\n",
       " </div>,\n",
       " <div class=\"property-card-primary-info\">\n",
       " <div class=\"pdp-listing-type sale\">FOR SALE</div>\n",
       " <a class=\"listing-price\" href=\"/property/1111-mccabe-street-rock-springs-wy-82901-REN025291809\">\n",
       "          \n",
       "             \n",
       "                $239,500\n",
       "             \n",
       "             \n",
       "          \n",
       "       </a>\n",
       " <div class=\"col-wrap-mid\">\n",
       " <div class=\"property-beds\">\n",
       " <strong>4</strong> beds\n",
       "          </div>\n",
       " <div class=\"property-baths\">\n",
       " <strong>2</strong> baths\n",
       "          </div>\n",
       " </div>\n",
       " <div class=\"col-wrap-last\">\n",
       " <div class=\"property-sqft\">\n",
       " <strong>1,768</strong> sq. ft\n",
       "          </div>\n",
       " </div>\n",
       " <div class=\"property-address-info\">\n",
       " <div class=\"property-address\" title=\"1111 McCabe Street\">\n",
       "                1111 McCabe Street\n",
       "             </div>\n",
       " <div class=\"property-city\">\n",
       "             Rock Springs WY 82901\n",
       "          </div>\n",
       " </div>\n",
       " <div class=\"property-card-attribution\">\n",
       "                Courtesy Of eXp Realty, LLC\n",
       "             \n",
       "          </div>\n",
       " </div>,\n",
       " <div class=\"property-card-primary-info\">\n",
       " <div class=\"pdp-listing-type sale\">FOR SALE</div>\n",
       " <a class=\"listing-price\" href=\"/property/tbd-yellowstone-rd--rock-springs-wy-82901-REN023852824\">\n",
       "          \n",
       "             \n",
       "                $295,000\n",
       "             \n",
       "             \n",
       "          \n",
       "       </a>\n",
       " <div class=\"col-wrap-mid\">\n",
       " </div>\n",
       " <div class=\"col-wrap-last\">\n",
       " </div>\n",
       " <div class=\"property-address-info\">\n",
       " <div class=\"property-address\" title=\"Tbd YELLOWSTONE RD.\">\n",
       "                Tbd YELLOWSTONE RD.\n",
       "             </div>\n",
       " <div class=\"property-city\">\n",
       "             Rock Springs WY 82901\n",
       "          </div>\n",
       " </div>\n",
       " <div class=\"property-card-attribution\">\n",
       "                Courtesy Of Real Estate of Wyoming, LLC\n",
       "             \n",
       "          </div>\n",
       " </div>,\n",
       " <div class=\"property-card-primary-info\">\n",
       " <div class=\"pdp-listing-type sale\">FOR SALE</div>\n",
       " <a class=\"listing-price\" href=\"/property/0-stagecoach-blvd--rock-springs-wy-82901-REN023349398\">\n",
       "          \n",
       "             \n",
       "                $975,000\n",
       "             \n",
       "             \n",
       "          \n",
       "       </a>\n",
       " <div class=\"col-wrap-mid\">\n",
       " </div>\n",
       " <div class=\"col-wrap-last\">\n",
       " </div>\n",
       " <div class=\"property-address-info\">\n",
       " <div class=\"property-address\" title=\"0 Stagecoach Blvd.\">\n",
       "                0 Stagecoach Blvd.\n",
       "             </div>\n",
       " <div class=\"property-city\">\n",
       "             Rock Springs WY 82901\n",
       "          </div>\n",
       " </div>\n",
       " <div class=\"property-card-attribution\">\n",
       "                Courtesy Of Corder and Associates, LLC - Fort Benton\n",
       "             \n",
       "          </div>\n",
       " </div>,\n",
       " <div class=\"property-card-primary-info\">\n",
       " <div class=\"pdp-listing-type sale\">FOR SALE</div>\n",
       " <a class=\"listing-price\" href=\"/property/828-rhode-island-ave-rock-springs-wy-82901-REN024652881\">\n",
       "          \n",
       "             \n",
       "                $199,900\n",
       "             \n",
       "             \n",
       "          \n",
       "       </a>\n",
       " <div class=\"col-wrap-mid\">\n",
       " <div class=\"property-beds\">\n",
       " <strong>4</strong> beds\n",
       "          </div>\n",
       " <div class=\"property-baths\">\n",
       " <strong>2</strong> baths\n",
       "          </div>\n",
       " </div>\n",
       " <div class=\"col-wrap-last\">\n",
       " <div class=\"property-sqft\">\n",
       " <strong>1,397</strong> sq. ft\n",
       "          </div>\n",
       " </div>\n",
       " <div class=\"property-address-info\">\n",
       " <div class=\"property-address\" title=\"828 Rhode Island Ave\">\n",
       "                828 Rhode Island Ave\n",
       "             </div>\n",
       " <div class=\"property-city\">\n",
       "             Rock Springs WY 82901\n",
       "          </div>\n",
       " </div>\n",
       " <div class=\"property-card-attribution\">\n",
       "                Courtesy Of JANNEL FOSSEN\n",
       "             \n",
       "          </div>\n",
       " </div>]"
      ]
     },
     "execution_count": 24,
     "metadata": {},
     "output_type": "execute_result"
    }
   ],
   "source": [
    "all"
   ]
  },
  {
   "cell_type": "code",
   "execution_count": 25,
   "id": "499d5fca",
   "metadata": {},
   "outputs": [
    {
     "data": {
      "text/plain": [
       "bs4.element.ResultSet"
      ]
     },
     "execution_count": 25,
     "metadata": {},
     "output_type": "execute_result"
    }
   ],
   "source": [
    "type(all)"
   ]
  },
  {
   "cell_type": "code",
   "execution_count": 27,
   "id": "88b2ad38",
   "metadata": {},
   "outputs": [
    {
     "data": {
      "text/plain": [
       "5"
      ]
     },
     "execution_count": 27,
     "metadata": {},
     "output_type": "execute_result"
    }
   ],
   "source": [
    "len(all)"
   ]
  },
  {
   "cell_type": "code",
   "execution_count": 29,
   "id": "3d77da92",
   "metadata": {},
   "outputs": [
    {
     "data": {
      "text/plain": [
       "<div class=\"property-card-primary-info\">\n",
       "<div class=\"pdp-listing-type sale\">FOR SALE</div>\n",
       "<a class=\"listing-price\" href=\"/property/109-clearview-drive-rock-springs-wy-82901-REN025385462\">\n",
       "         \n",
       "            \n",
       "               $152,000\n",
       "            \n",
       "            \n",
       "         \n",
       "      </a>\n",
       "<div class=\"col-wrap-mid\">\n",
       "<div class=\"property-beds\">\n",
       "<strong>3</strong> beds\n",
       "         </div>\n",
       "<div class=\"property-baths\">\n",
       "<strong>2</strong> baths\n",
       "         </div>\n",
       "</div>\n",
       "<div class=\"col-wrap-last\">\n",
       "<div class=\"property-sqft\">\n",
       "<strong>1,688</strong> sq. ft\n",
       "         </div>\n",
       "</div>\n",
       "<div class=\"property-address-info\">\n",
       "<div class=\"property-address\" title=\"109 Clearview Drive\">\n",
       "               109 Clearview Drive\n",
       "            </div>\n",
       "<div class=\"property-city\">\n",
       "            Rock Springs WY 82901\n",
       "         </div>\n",
       "</div>\n",
       "<div class=\"property-card-attribution\">\n",
       "               Courtesy Of Williams &amp; Williams Real Estate Auctions\n",
       "            \n",
       "         </div>\n",
       "</div>"
      ]
     },
     "execution_count": 29,
     "metadata": {},
     "output_type": "execute_result"
    }
   ],
   "source": [
    "all[0]"
   ]
  },
  {
   "cell_type": "code",
   "execution_count": 35,
   "id": "f3242fc3",
   "metadata": {},
   "outputs": [
    {
     "data": {
      "text/plain": [
       "[<a class=\"listing-price\" href=\"/property/109-clearview-drive-rock-springs-wy-82901-REN025385462\">\n",
       "          \n",
       "             \n",
       "                $152,000\n",
       "             \n",
       "             \n",
       "          \n",
       "       </a>]"
      ]
     },
     "execution_count": 35,
     "metadata": {},
     "output_type": "execute_result"
    }
   ],
   "source": [
    "all[0].find_all('a', {'class' : 'listing-price'})"
   ]
  },
  {
   "cell_type": "code",
   "execution_count": 40,
   "id": "9a82dca7",
   "metadata": {},
   "outputs": [
    {
     "data": {
      "text/plain": [
       "'$152,000'"
      ]
     },
     "execution_count": 40,
     "metadata": {},
     "output_type": "execute_result"
    }
   ],
   "source": [
    "all[0].find('a', {'class' : 'listing-price'}).text.replace('\\n', '').replace(' ','')"
   ]
  },
  {
   "cell_type": "code",
   "execution_count": 45,
   "id": "13f6f04b",
   "metadata": {},
   "outputs": [
    {
     "name": "stdout",
     "output_type": "stream",
     "text": [
      "[<a class=\"listing-price\" href=\"/property/109-clearview-drive-rock-springs-wy-82901-REN025385462\">\n",
      "         \n",
      "            \n",
      "               $152,000\n",
      "            \n",
      "            \n",
      "         \n",
      "      </a>]\n",
      "[<a class=\"listing-price\" href=\"/property/1111-mccabe-street-rock-springs-wy-82901-REN025291809\">\n",
      "         \n",
      "            \n",
      "               $239,500\n",
      "            \n",
      "            \n",
      "         \n",
      "      </a>]\n",
      "[<a class=\"listing-price\" href=\"/property/tbd-yellowstone-rd--rock-springs-wy-82901-REN023852824\">\n",
      "         \n",
      "            \n",
      "               $295,000\n",
      "            \n",
      "            \n",
      "         \n",
      "      </a>]\n",
      "[<a class=\"listing-price\" href=\"/property/0-stagecoach-blvd--rock-springs-wy-82901-REN023349398\">\n",
      "         \n",
      "            \n",
      "               $975,000\n",
      "            \n",
      "            \n",
      "         \n",
      "      </a>]\n",
      "[<a class=\"listing-price\" href=\"/property/828-rhode-island-ave-rock-springs-wy-82901-REN024652881\">\n",
      "         \n",
      "            \n",
      "               $199,900\n",
      "            \n",
      "            \n",
      "         \n",
      "      </a>]\n"
     ]
    }
   ],
   "source": [
    "for items in all :\n",
    "    print(items.find_all('a', {'class' : 'listing-price'}))"
   ]
  },
  {
   "cell_type": "code",
   "execution_count": null,
   "id": "3b776ee5",
   "metadata": {},
   "outputs": [],
   "source": []
  }
 ],
 "metadata": {
  "kernelspec": {
   "display_name": "Python 3 (ipykernel)",
   "language": "python",
   "name": "python3"
  },
  "language_info": {
   "codemirror_mode": {
    "name": "ipython",
    "version": 3
   },
   "file_extension": ".py",
   "mimetype": "text/x-python",
   "name": "python",
   "nbconvert_exporter": "python",
   "pygments_lexer": "ipython3",
   "version": "3.10.9"
  }
 },
 "nbformat": 4,
 "nbformat_minor": 5
}
